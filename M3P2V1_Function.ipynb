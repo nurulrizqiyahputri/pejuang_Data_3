{
  "nbformat": 4,
  "nbformat_minor": 0,
  "metadata": {
    "colab": {
      "name": "Untitled18.ipynb",
      "provenance": []
    },
    "kernelspec": {
      "name": "python3",
      "display_name": "Python 3"
    },
    "language_info": {
      "name": "python"
    }
  },
  "cells": [
    {
      "cell_type": "markdown",
      "metadata": {
        "id": "BzHKuEEZB4-8"
      },
      "source": [
        "Latihan 1\n",
        "\n",
        "Buatlah Function pythagoras dengan input argumennya panjang tinggi dan alas segitiga untuk menghasilkan output nilai panjang sisi miring."
      ]
    },
    {
      "cell_type": "code",
      "metadata": {
        "colab": {
          "base_uri": "https://localhost:8080/"
        },
        "id": "rNjPeKZhBspi",
        "outputId": "bba4e465-e099-4d6a-e8e6-0c2011c32644"
      },
      "source": [
        "# Ketikkan kodemu\n",
        "\n",
        "# x = panjang tinggi segitiga\n",
        "# y = panjang alas segitiga\n",
        "\n",
        "def penjumlahan(x, y):\n",
        "    return x+y\n",
        "\n",
        "\n",
        "a = penjumlahan\n",
        "a(3**2, 4**2)"
      ],
      "execution_count": 11,
      "outputs": [
        {
          "output_type": "execute_result",
          "data": {
            "text/plain": [
              "25"
            ]
          },
          "metadata": {},
          "execution_count": 11
        }
      ]
    },
    {
      "cell_type": "markdown",
      "metadata": {
        "id": "RobtxMDXFxct"
      },
      "source": [
        "Latihan 2\n",
        "\n",
        "Buatlah Function luas permukaan balok dengan input argumennya panjang, lebar, dan tinggi dari balok untuk menghasilkan output nilai luas permukaan balok tersebut"
      ]
    },
    {
      "cell_type": "code",
      "metadata": {
        "colab": {
          "base_uri": "https://localhost:8080/"
        },
        "id": "lSgQvFvCJLE-",
        "outputId": "57467af6-2511-4a0c-d189-7385d10dd38d"
      },
      "source": [
        "# Ketikkan kodemu\n",
        "\n",
        "# x = 2 (panjang*lebar)\n",
        "# y = 2 (panjang*tinggi)\n",
        "# z = 2 (lebar*tinggi)\n",
        "\n",
        "def penjumlahan(x, y, z=None):\n",
        "    if (z==None):\n",
        "         return x+y\n",
        "    else:\n",
        "        return x+y+z\n",
        "print(penjumlahan(2*8*4, 2*8*3, 2*4*3)) "
      ],
      "execution_count": 8,
      "outputs": [
        {
          "output_type": "stream",
          "name": "stdout",
          "text": [
            "136\n"
          ]
        }
      ]
    }
  ]
}
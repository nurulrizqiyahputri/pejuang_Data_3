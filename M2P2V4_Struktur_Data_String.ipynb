{
  "nbformat": 4,
  "nbformat_minor": 0,
  "metadata": {
    "colab": {
      "name": "Untitled11.ipynb",
      "provenance": []
    },
    "kernelspec": {
      "name": "python3",
      "display_name": "Python 3"
    },
    "language_info": {
      "name": "python"
    }
  },
  "cells": [
    {
      "cell_type": "code",
      "metadata": {
        "colab": {
          "base_uri": "https://localhost:8080/"
        },
        "id": "D67OPnxnW1hQ",
        "outputId": "057caced-60ba-46c2-9b76-387f4dcd264f"
      },
      "source": [
        "print(\"Hello World\")"
      ],
      "execution_count": 2,
      "outputs": [
        {
          "output_type": "stream",
          "name": "stdout",
          "text": [
            "Hello World\n"
          ]
        }
      ]
    },
    {
      "cell_type": "code",
      "metadata": {
        "colab": {
          "base_uri": "https://localhost:8080/"
        },
        "id": "Wra2Yc_UXYvN",
        "outputId": "b34a4e6c-5dcd-4411-addd-bc0236462155"
      },
      "source": [
        "A = \"Belajar Fondasi Matematika\"\n",
        "print(A)"
      ],
      "execution_count": 3,
      "outputs": [
        {
          "output_type": "stream",
          "name": "stdout",
          "text": [
            "Belajar Fondasi Matematika\n"
          ]
        }
      ]
    },
    {
      "cell_type": "code",
      "metadata": {
        "colab": {
          "base_uri": "https://localhost:8080/"
        },
        "id": "1elR3FkrXpEs",
        "outputId": "15e88291-b38e-4ad3-c28f-a8d1b5472465"
      },
      "source": [
        "B = \"\"\"Belajar Jupyter Notebook \n",
        "Pejuang Data 3.0\n",
        "PSDS\"\"\"\n",
        "print(B)"
      ],
      "execution_count": 4,
      "outputs": [
        {
          "output_type": "stream",
          "name": "stdout",
          "text": [
            "Belajar Jupyter Notebook \n",
            "Pejuang Data 3.0\n",
            "PSDS\n"
          ]
        }
      ]
    },
    {
      "cell_type": "code",
      "metadata": {
        "colab": {
          "base_uri": "https://localhost:8080/"
        },
        "id": "CTIycAaaYICH",
        "outputId": "a7936f96-d688-4c3f-c857-57a14b045db2"
      },
      "source": [
        "print(A[2])"
      ],
      "execution_count": 5,
      "outputs": [
        {
          "output_type": "stream",
          "name": "stdout",
          "text": [
            "l\n"
          ]
        }
      ]
    },
    {
      "cell_type": "code",
      "metadata": {
        "colab": {
          "base_uri": "https://localhost:8080/"
        },
        "id": "vdS1PLaWYP6l",
        "outputId": "47893b7c-ecff-43fa-c3de-576f067382b8"
      },
      "source": [
        "A = \"Belajar Fondasi Matematika\"\n",
        "print(A[:5])\n",
        "print(A[3:])\n",
        "print(A[-5:])\n",
        "print(A[4:9])"
      ],
      "execution_count": 6,
      "outputs": [
        {
          "output_type": "stream",
          "name": "stdout",
          "text": [
            "Belaj\n",
            "ajar Fondasi Matematika\n",
            "atika\n",
            "jar F\n"
          ]
        }
      ]
    },
    {
      "cell_type": "code",
      "metadata": {
        "colab": {
          "base_uri": "https://localhost:8080/"
        },
        "id": "Ke1sMOw3YsXQ",
        "outputId": "eaab8a37-ca72-4f0e-f7fb-08c4de492a81"
      },
      "source": [
        "A = \"Belajar Fondasi Matematika\"\n",
        "print(A[1:])"
      ],
      "execution_count": 8,
      "outputs": [
        {
          "output_type": "stream",
          "name": "stdout",
          "text": [
            "elajar Fondasi Matematika\n"
          ]
        }
      ]
    },
    {
      "cell_type": "code",
      "metadata": {
        "colab": {
          "base_uri": "https://localhost:8080/",
          "height": 35
        },
        "id": "Q8lEzaIKaFjW",
        "outputId": "e651f38b-9f49-407d-ce54-b197f0d21c14"
      },
      "source": [
        "A.upper()"
      ],
      "execution_count": 9,
      "outputs": [
        {
          "output_type": "execute_result",
          "data": {
            "application/vnd.google.colaboratory.intrinsic+json": {
              "type": "string"
            },
            "text/plain": [
              "'BELAJAR FONDASI MATEMATIKA'"
            ]
          },
          "metadata": {},
          "execution_count": 9
        }
      ]
    }
  ]
}
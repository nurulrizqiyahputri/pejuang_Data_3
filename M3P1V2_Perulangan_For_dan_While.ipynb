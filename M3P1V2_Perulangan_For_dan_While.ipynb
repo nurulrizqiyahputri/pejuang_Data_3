{
  "nbformat": 4,
  "nbformat_minor": 0,
  "metadata": {
    "colab": {
      "name": "Untitled17.ipynb",
      "provenance": []
    },
    "kernelspec": {
      "name": "python3",
      "display_name": "Python 3"
    },
    "language_info": {
      "name": "python"
    }
  },
  "cells": [
    {
      "cell_type": "markdown",
      "metadata": {
        "id": "2Eu7QmYEAN_p"
      },
      "source": [
        ""
      ]
    },
    {
      "cell_type": "markdown",
      "metadata": {
        "id": "_5vccn8b-YI3"
      },
      "source": [
        "Latihan 1 \n",
        "\n",
        "Diberikaan list_tagihan. Kamu diminta untuk menghitung jumlah seluruh tagihan! Gunakan Looping for untuk menyelesaikan tugas ini! \n",
        "\n",
        "Simpan jawabannya dalam variabel total_tagihan!"
      ]
    },
    {
      "cell_type": "code",
      "metadata": {
        "colab": {
          "base_uri": "https://localhost:8080/"
        },
        "id": "e6MvGb5SG5f8",
        "outputId": "5e63e2ca-2224-4d25-caf8-8b992ed80e7e"
      },
      "source": [
        "# Tuliskan Code kalian\n",
        "\n",
        "list_tagihan = [50000, 75000, -150000, 125000, 300000, -50000, 200000]\n",
        "total_tagihan = 0\n",
        "\n",
        "# iterasi di dalam list\n",
        "for i in list_tagihan:\n",
        "  total_tagihan = total_tagihan + i\n",
        "\n",
        "print(total_tagihan)"
      ],
      "execution_count": 10,
      "outputs": [
        {
          "output_type": "stream",
          "name": "stdout",
          "text": [
            "550000\n"
          ]
        }
      ]
    },
    {
      "cell_type": "markdown",
      "metadata": {
        "id": "JKFPR2SdrqzK"
      },
      "source": [
        "Latihan 2\n",
        "\n",
        "Dberikan list tagihan hitunglah total_tagihan menggunakan while loop\n"
      ]
    },
    {
      "cell_type": "code",
      "metadata": {
        "colab": {
          "base_uri": "https://localhost:8080/"
        },
        "id": "NwOfA1CgzWiv",
        "outputId": "ea417be7-40a5-40c2-e258-383dd8d1856f"
      },
      "source": [
        "# Tulliskan kodemu\n",
        "tagihan = [50000, 75000, 125000, 300000, 200000]\n",
        "\n",
        "n = 5\n",
        "total_tagihan = 0\n",
        "i = 1\n",
        "\n",
        "while i <= n:\n",
        "  total_tagihan = total_tagihan + i\n",
        "  i +=  1\n",
        "\n",
        "print(50000 + 75000 + 125000 + 300000  + 200000)"
      ],
      "execution_count": 11,
      "outputs": [
        {
          "output_type": "stream",
          "name": "stdout",
          "text": [
            "750000\n"
          ]
        }
      ]
    }
  ]
}
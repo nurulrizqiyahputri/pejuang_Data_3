{
  "nbformat": 4,
  "nbformat_minor": 0,
  "metadata": {
    "colab": {
      "name": "Untitled20.ipynb",
      "provenance": []
    },
    "kernelspec": {
      "name": "python3",
      "display_name": "Python 3"
    },
    "language_info": {
      "name": "python"
    }
  },
  "cells": [
    {
      "cell_type": "markdown",
      "metadata": {
        "id": "G9cpIGC3T-zi"
      },
      "source": [
        "Latihan"
      ]
    },
    {
      "cell_type": "markdown",
      "metadata": {
        "id": "zrCjeYBOUiQ2"
      },
      "source": [
        "1. Buatlah fungnsi lambda\n",
        "\n",
        "\n",
        "*  Input berupa variabel pdan l\n",
        "*  Fungsi lambda disimpan dalam variabel \"Luas_Persegi_PAnjang\"\n",
        "*  Jiak fugsi lambda dijalankan akan menghasilkan output\"Luas_Persegi_PAnjang Anda*(luasnya)* cm\" "
      ]
    },
    {
      "cell_type": "code",
      "metadata": {
        "colab": {
          "base_uri": "https://localhost:8080/"
        },
        "id": "qF4BzIayJ5L5",
        "outputId": "402477be-46cd-4ab6-b3ac-e2ac9fbce944"
      },
      "source": [
        "luas_persegi_panjang  = lambda p,l : p * l\n",
        "print(luas_persegi_panjang(9, 13))"
      ],
      "execution_count": 2,
      "outputs": [
        {
          "output_type": "stream",
          "name": "stdout",
          "text": [
            "117\n"
          ]
        }
      ]
    },
    {
      "cell_type": "markdown",
      "metadata": {
        "id": "FL4NsYIQU2yB"
      },
      "source": [
        "2. Buatlah fungsi lambda untuk menghitung luas dari segitiga\n",
        "\n",
        "\n",
        "*  Input berupa variabel a dan t\n",
        "*  Fungsi lambda disimpan dalam variabel \"Luas_Segitiga\"\n",
        "*  Jika fungsi lambda dijalankan akan menghasilkan output \"Luas Segitiga Anda*(luasnya)* cm\" "
      ]
    },
    {
      "cell_type": "code",
      "metadata": {
        "colab": {
          "base_uri": "https://localhost:8080/"
        },
        "id": "6eDLFUFdMVKA",
        "outputId": "cbe48257-a43e-4220-a0fe-a6fe13b1e534"
      },
      "source": [
        "luas_segitiga = lambda a,t : a/2 * t\n",
        "val1 = (9/2 * 12)\n",
        "print(val1)"
      ],
      "execution_count": 8,
      "outputs": [
        {
          "output_type": "stream",
          "name": "stdout",
          "text": [
            "54.0\n"
          ]
        }
      ]
    }
  ]
}
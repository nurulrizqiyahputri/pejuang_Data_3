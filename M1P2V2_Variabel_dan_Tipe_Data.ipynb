{
  "nbformat": 4,
  "nbformat_minor": 0,
  "metadata": {
    "colab": {
      "name": "Untitled",
      "provenance": []
    },
    "kernelspec": {
      "name": "python3",
      "display_name": "Python 3"
    },
    "language_info": {
      "name": "python"
    }
  },
  "cells": [
    {
      "cell_type": "code",
      "metadata": {
        "id": "Qd9kZsvLtf3C"
      },
      "source": [
        "# Buatlah 5 variabel kalan sendiri dengan 5 macam tipe data\n",
        "kalimat ='kelas dasar data science'\n",
        "bilangan1 = 8 \n",
        "bilangan2 = 3.5\n",
        "bilangan3 = False\n",
        "bilangan4 = 8 + 5j"
      ],
      "execution_count": 49,
      "outputs": []
    },
    {
      "cell_type": "code",
      "metadata": {
        "colab": {
          "base_uri": "https://localhost:8080/"
        },
        "id": "9-oKtUdZ6SAu",
        "outputId": "2bb5b7f5-60f2-4096-eaaf-f664135e707d"
      },
      "source": [
        "# Tampilkan variabel\n",
        "print(kalimat)\n",
        "print(bilangan1)\n",
        "print(bilangan2)\n",
        "print(bilangan3)\n",
        "print(bilangan4)"
      ],
      "execution_count": 50,
      "outputs": [
        {
          "output_type": "stream",
          "name": "stdout",
          "text": [
            "kelas dasar data science\n",
            "8\n",
            "3.5\n",
            "False\n",
            "(8+5j)\n"
          ]
        }
      ]
    },
    {
      "cell_type": "code",
      "metadata": {
        "colab": {
          "base_uri": "https://localhost:8080/"
        },
        "id": "EEPBTO-r9M7U",
        "outputId": "e0b82fe9-a076-4dfd-b047-d77434389ea1"
      },
      "source": [
        "# Cek tipe data variabel yang telah kalian buat pada latihan 1\n",
        "print(type(kalimat))\n",
        "print(type(bilangan1))\n",
        "print(type(bilangan2))\n",
        "print(type(bilangan3))\n",
        "print(type(bilangan4))"
      ],
      "execution_count": 52,
      "outputs": [
        {
          "output_type": "stream",
          "name": "stdout",
          "text": [
            "<class 'str'>\n",
            "<class 'int'>\n",
            "<class 'float'>\n",
            "<class 'bool'>\n",
            "<class 'complex'>\n"
          ]
        }
      ]
    },
    {
      "cell_type": "code",
      "metadata": {
        "colab": {
          "base_uri": "https://localhost:8080/"
        },
        "id": "Ls1vgOt3EmUM",
        "outputId": "e205b648-9418-463e-e1df-cda62af9cb66"
      },
      "source": [
        "# Konversi tipe data variabel yang telah kalian buat menjadi berbagai macam tipe data\n",
        "# Konversi tipe data integer\n",
        "\n",
        "print(int(bilangan1))\n",
        "print(int(bilangan2))\n",
        "print(int(bilangan3))"
      ],
      "execution_count": 58,
      "outputs": [
        {
          "output_type": "stream",
          "name": "stdout",
          "text": [
            "8\n",
            "3\n",
            "0\n"
          ]
        }
      ]
    },
    {
      "cell_type": "code",
      "metadata": {
        "colab": {
          "base_uri": "https://localhost:8080/"
        },
        "id": "YiIN81cfGr3j",
        "outputId": "e0c2325d-e8a9-419a-99e5-872c18e443c8"
      },
      "source": [
        "# Konversi tipe data float\n",
        "\n",
        "print(float(bilangan1))\n",
        "print(float(bilangan2))\n",
        "print(float(bilangan3))"
      ],
      "execution_count": 60,
      "outputs": [
        {
          "output_type": "stream",
          "name": "stdout",
          "text": [
            "8.0\n",
            "3.5\n",
            "0.0\n"
          ]
        }
      ]
    },
    {
      "cell_type": "code",
      "metadata": {
        "colab": {
          "base_uri": "https://localhost:8080/"
        },
        "id": "tY4GnwPLIGbz",
        "outputId": "37b81545-1066-4914-d23e-fc707a47f34e"
      },
      "source": [
        "# Konversi data string\n",
        "\n",
        "print(str(kalimat))\n",
        "print(str(bilangan1))\n",
        "print(str(bilangan2))\n",
        "print(str(bilangan3))\n",
        "print(str(bilangan4))"
      ],
      "execution_count": 61,
      "outputs": [
        {
          "output_type": "stream",
          "name": "stdout",
          "text": [
            "kelas dasar data science\n",
            "8\n",
            "3.5\n",
            "False\n",
            "(8+5j)\n"
          ]
        }
      ]
    },
    {
      "cell_type": "code",
      "metadata": {
        "colab": {
          "base_uri": "https://localhost:8080/"
        },
        "id": "nEq0F4NRIzuQ",
        "outputId": "1a0b0fb0-f1cc-4845-b1d6-27fb801b86f4"
      },
      "source": [
        "# Konversi data boolean\n",
        "\n",
        "print(bool(kalimat))\n",
        "print(bool(bilangan1))\n",
        "print(bool(bilangan2))\n",
        "print(bool(bilangan3))\n",
        "print(bool(bilangan4))"
      ],
      "execution_count": 62,
      "outputs": [
        {
          "output_type": "stream",
          "name": "stdout",
          "text": [
            "True\n",
            "True\n",
            "True\n",
            "False\n",
            "True\n"
          ]
        }
      ]
    },
    {
      "cell_type": "code",
      "metadata": {
        "colab": {
          "base_uri": "https://localhost:8080/"
        },
        "id": "Qy_CJmKHJqV7",
        "outputId": "a5721b0d-f5e4-4fcc-a752-bcfc88bbbd8b"
      },
      "source": [
        "# Konversi tipe data complex\n",
        "\n",
        "print(complex(bilangan1))\n",
        "print(complex(bilangan2))\n",
        "print(complex(bilangan3))\n",
        "print(complex(bilangan4))"
      ],
      "execution_count": 64,
      "outputs": [
        {
          "output_type": "stream",
          "name": "stdout",
          "text": [
            "(8+0j)\n",
            "(3.5+0j)\n",
            "0j\n",
            "(8+5j)\n"
          ]
        }
      ]
    }
  ]
}
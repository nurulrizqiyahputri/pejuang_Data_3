{
  "nbformat": 4,
  "nbformat_minor": 0,
  "metadata": {
    "colab": {
      "name": "Untitled1.ipynb",
      "provenance": []
    },
    "kernelspec": {
      "name": "python3",
      "display_name": "Python 3"
    },
    "language_info": {
      "name": "python"
    }
  },
  "cells": [
    {
      "cell_type": "markdown",
      "metadata": {
        "id": "Uwa4tkkqNsc9"
      },
      "source": [
        "Tugas M1P2V1_Operator"
      ]
    },
    {
      "cell_type": "code",
      "metadata": {
        "colab": {
          "base_uri": "https://localhost:8080/"
        },
        "id": "HlEY5epPOIU7",
        "outputId": "cbc17482-0662-47f1-a0e4-d0a760cd9b32"
      },
      "source": [
        "Latihan Operator 1\n",
        "# Buatlah program penerapan operator aritmetika\n",
        "# Penjumlahan\n",
        "print(\"Penjumlahan\")\n",
        "print(3+3)\n",
        "\n",
        "# Pengurangan\n",
        "print(\"-\"*20)\n",
        "print(\"Pengurangan\")\n",
        "print(3-2)\n",
        "\n",
        "# Perkalian\n",
        "print(\"-\"*20)\n",
        "print(\"Perkalian\")\n",
        "print(3*3)\n",
        "\n",
        "# Pembagian\n",
        "print(\"-\"*20)\n",
        "print(\"Pembagian\")\n",
        "print(3/3)\n",
        "\n",
        "# Modulus\n",
        "print(\"-\"*20)\n",
        "print(\"Modulus\")\n",
        "print(3%3)\n",
        "\n",
        "# Perpangkatan\n",
        "print(\"-\"*20)\n",
        "print(\"Perpangkatan\")\n",
        "print(3**3)\n",
        "\n",
        "# Pembagian Pembulatan Floring\n",
        "print(\"-\"*20)\n",
        "print(\"Pembagian Pembulatan Floring\")\n",
        "print(3//3)\n"
      ],
      "execution_count": 8,
      "outputs": [
        {
          "output_type": "stream",
          "name": "stdout",
          "text": [
            "Penjumlahan\n",
            "6\n",
            "--------------------\n",
            "Pengurangan\n",
            "1\n",
            "--------------------\n",
            "Perkalian\n",
            "9\n",
            "--------------------\n",
            "Pembagian\n",
            "1.0\n",
            "--------------------\n",
            "Modulus\n",
            "0\n",
            "--------------------\n",
            "Perpangkatan\n",
            "27\n",
            "--------------------\n",
            "Pembagian Pembulatan Floring\n",
            "1\n"
          ]
        }
      ]
    },
    {
      "cell_type": "code",
      "metadata": {
        "colab": {
          "base_uri": "https://localhost:8080/"
        },
        "id": "WzZmgbqlR_3N",
        "outputId": "396b99b6-80ff-40e5-9098-59eae5dc01d4"
      },
      "source": [
        "#Buatlah program penerapan operator assignment\n",
        "# Penjumlahan\n",
        "print(\"Penjumlahan\")\n",
        "x=3\n",
        "x=x+3\n",
        "print(x)\n",
        "x=3\n",
        "x+=2\n",
        "print(x)\n",
        "print(\"-\"*20)\n",
        "\n",
        "# Pengurangan\n",
        "print(\"Pengurangan\")\n",
        "x=3\n",
        "x=x-3\n",
        "print(x)\n",
        "x=3\n",
        "x-=2\n",
        "print(x)\n",
        "print(\"-\"*20)\n",
        "\n",
        "# Perkalian\n",
        "print(\"Perkalian\")\n",
        "x=3\n",
        "x=x*3\n",
        "print(x)\n",
        "x=3\n",
        "x*=2\n",
        "print(x)\n",
        "print(\"-\"*20)\n",
        "\n",
        "# Pembagian\n",
        "print(\"Pembagian\")\n",
        "x=3\n",
        "x=x/3\n",
        "print(x)\n",
        "x=3\n",
        "x/=2\n",
        "print(x)\n",
        "print(\"-\"*20)\n",
        "\n",
        "# Modulus\n",
        "print(\"Modulus\")\n",
        "x=3\n",
        "x=x%3\n",
        "print(x)\n",
        "x=3\n",
        "x%=2\n",
        "print(x)\n",
        "print(\"-\"*20)\n",
        "\n",
        "# Perpangkatan\n",
        "print(\"Perpangkatan\")\n",
        "x=3\n",
        "x=x**3\n",
        "print(x)\n",
        "x=3\n",
        "x**=2\n",
        "print(x)\n",
        "print(\"-\"*20)\n",
        "\n",
        "# Pembagian Floring\n",
        "print(\"Pembagian Floring\")\n",
        "x=3\n",
        "x=x//3\n",
        "print(x)\n",
        "x=3\n",
        "x//=2\n",
        "print(x)\n",
        "print(\"-\"*20)\n"
      ],
      "execution_count": 18,
      "outputs": [
        {
          "output_type": "stream",
          "name": "stdout",
          "text": [
            "Penjumlahan\n",
            "6\n",
            "5\n",
            "--------------------\n",
            "Pengurangan\n",
            "0\n",
            "1\n",
            "--------------------\n",
            "Perkalian\n",
            "9\n",
            "6\n",
            "--------------------\n",
            "Pembagian\n",
            "1.0\n",
            "1.5\n",
            "--------------------\n",
            "Modulus\n",
            "0\n",
            "1\n",
            "--------------------\n",
            "Perpangkatan\n",
            "27\n",
            "9\n",
            "--------------------\n",
            "Pembagian Floring\n",
            "1\n",
            "1\n",
            "--------------------\n"
          ]
        }
      ]
    },
    {
      "cell_type": "code",
      "metadata": {
        "colab": {
          "base_uri": "https://localhost:8080/"
        },
        "id": "-PdoooTtZzqB",
        "outputId": "0a68e508-ab14-4b3b-aedd-45edca855ee5"
      },
      "source": [
        "#Buatlah program penerapan operator pembanding\n",
        "# Sama Dengan\n",
        "print(3==3)\n",
        "\n",
        "# Tidak Sama Dengan\n",
        "print(3!=3)\n",
        "\n",
        "# Lebih Dari\n",
        "print(3>3)\n",
        "\n",
        "# Kurang Dari\n",
        "print(3<3)\n",
        "\n",
        "# Lebih Dari dan Sama Dengan\n",
        "print(3>=3)\n",
        "\n",
        "# Kurang Dari dan Sama Dengan\n",
        "print(3<=3)\n"
      ],
      "execution_count": 24,
      "outputs": [
        {
          "output_type": "stream",
          "name": "stdout",
          "text": [
            "True\n",
            "False\n",
            "False\n",
            "False\n",
            "True\n",
            "True\n"
          ]
        }
      ]
    },
    {
      "cell_type": "code",
      "metadata": {
        "colab": {
          "base_uri": "https://localhost:8080/"
        },
        "id": "SX4OhlOdbndG",
        "outputId": "eebe4267-0377-476b-a9e4-5345f423712f"
      },
      "source": [
        "#Buatlah program penerapan operator logika\n",
        "# And\n",
        "print(True and True)\n",
        "print(True and False)\n",
        "print(False and True)\n",
        "print(False and False)\n",
        "\n",
        "# Or\n",
        "print(True or True)\n",
        "print(True or False)\n",
        "print(False or True)\n",
        "print(False or False)\n",
        "\n",
        "# Not\n",
        "print(not True and True)\n",
        "print(not True and False)\n",
        "print(not False and True)\n",
        "print(not False and False)\n"
      ],
      "execution_count": 31,
      "outputs": [
        {
          "output_type": "stream",
          "name": "stdout",
          "text": [
            "True\n",
            "False\n",
            "False\n",
            "False\n",
            "True\n",
            "True\n",
            "True\n",
            "False\n",
            "False\n",
            "False\n",
            "True\n",
            "False\n"
          ]
        }
      ]
    },
    {
      "cell_type": "code",
      "metadata": {
        "colab": {
          "base_uri": "https://localhost:8080/"
        },
        "id": "VVQ8KPZFfkY8",
        "outputId": "9c7e1b80-071a-420a-f2ae-efe146c7676d"
      },
      "source": [
        "#Buatlah program penerapan operator membership\n",
        "# In\n",
        "a=(2,3,5,7,11,13)\n",
        "b=(5)\n",
        "print(b in a)\n",
        "b=(4)\n",
        "print(b in a)\n",
        "\n",
        "# Not In\n",
        "print(\"-\"*20)\n",
        "a=(2,3,5,7,11,13)\n",
        "b=(5)\n",
        "print(b not in a)\n",
        "b=(4)\n",
        "print(b not in a)"
      ],
      "execution_count": 35,
      "outputs": [
        {
          "output_type": "stream",
          "name": "stdout",
          "text": [
            "True\n",
            "False\n",
            "--------------------\n",
            "False\n",
            "True\n"
          ]
        }
      ]
    }
  ]
}
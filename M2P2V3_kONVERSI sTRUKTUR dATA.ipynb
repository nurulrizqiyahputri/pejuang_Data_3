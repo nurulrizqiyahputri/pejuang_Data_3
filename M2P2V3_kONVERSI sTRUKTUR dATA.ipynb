{
  "nbformat": 4,
  "nbformat_minor": 0,
  "metadata": {
    "colab": {
      "name": "Untitled10.ipynb",
      "provenance": []
    },
    "kernelspec": {
      "name": "python3",
      "display_name": "Python 3"
    },
    "language_info": {
      "name": "python"
    }
  },
  "cells": [
    {
      "cell_type": "code",
      "metadata": {
        "id": "iyG7gr3QMfPi"
      },
      "source": [
        "# Membuat 2 List\n",
        "L1 = [3, 4, 5, 6]\n",
        "L2 = [1, 3, 5, 7]"
      ],
      "execution_count": 1,
      "outputs": []
    },
    {
      "cell_type": "code",
      "metadata": {
        "colab": {
          "base_uri": "https://localhost:8080/"
        },
        "id": "ok7--w6ANbfL",
        "outputId": "a3ac840e-c1df-4cc3-dd50-d789890980e5"
      },
      "source": [
        "# Mengkonversi struktur data list\n",
        "k_tuple = tuple(L1)\n",
        "k_set = set(L2)\n",
        "k_dict = dict(zip(L1,L2))\n",
        "\n",
        "print(k_tuple)\n",
        "print(k_set)\n",
        "print(k_dict)"
      ],
      "execution_count": 11,
      "outputs": [
        {
          "output_type": "stream",
          "name": "stdout",
          "text": [
            "(3, 4, 5, 6)\n",
            "{1, 3, 5, 7}\n",
            "{3: 1, 4: 3, 5: 5, 6: 7}\n"
          ]
        }
      ]
    },
    {
      "cell_type": "code",
      "metadata": {
        "id": "lFYOcgFbPtD5"
      },
      "source": [
        "# Membuat 2 Tuple\n",
        "T1 = (1, 2, 3, 4)\n",
        "T2 = (5, 6, 7, 8)"
      ],
      "execution_count": 15,
      "outputs": []
    },
    {
      "cell_type": "code",
      "metadata": {
        "colab": {
          "base_uri": "https://localhost:8080/",
          "height": 129
        },
        "id": "hTIJqu1XQGgB",
        "outputId": "ef25188f-5cd3-4de8-deaf-f21520064c7b"
      },
      "source": [
        "# Mengkonversi struktur data tuple\n",
        " k_list = list(T1)\n",
        " k_set = set(T2)\n",
        " k_dict = dict(zip(T1,T2))\n",
        " \n",
        " print(k_list)\n",
        " print(k_set)\n",
        " print(k_dict)"
      ],
      "execution_count": 23,
      "outputs": [
        {
          "output_type": "error",
          "ename": "IndentationError",
          "evalue": "ignored",
          "traceback": [
            "\u001b[0;36m  File \u001b[0;32m\"<ipython-input-23-2c91de366eb7>\"\u001b[0;36m, line \u001b[0;32m2\u001b[0m\n\u001b[0;31m    k_list = list(T1)\u001b[0m\n\u001b[0m    ^\u001b[0m\n\u001b[0;31mIndentationError\u001b[0m\u001b[0;31m:\u001b[0m unexpected indent\n"
          ]
        }
      ]
    },
    {
      "cell_type": "code",
      "metadata": {
        "id": "D2Kgfrc3TJ7e"
      },
      "source": [
        "# Membuat data set\n",
        "S1 = {1, 2, 3, 4}\n",
        "S2 = {5, 6, 7, 8}"
      ],
      "execution_count": 22,
      "outputs": []
    },
    {
      "cell_type": "code",
      "metadata": {
        "colab": {
          "base_uri": "https://localhost:8080/"
        },
        "id": "-Y-I6XerTftK",
        "outputId": "7c6f50ca-2d16-47d0-f25f-f8dcb79911c3"
      },
      "source": [
        "# Mengkonversi struktur data set\n",
        "k_list = list(S1)\n",
        "k_tuple = tuple(S2)\n",
        "k_dict = dict(zip(S1,S2))\n",
        "\n",
        "print(k_list)\n",
        "print(k_tuple)\n",
        "print(k_dict)\n"
      ],
      "execution_count": 25,
      "outputs": [
        {
          "output_type": "stream",
          "name": "stdout",
          "text": [
            "[1, 2, 3, 4]\n",
            "(8, 5, 6, 7)\n",
            "{1: 8, 2: 5, 3: 6, 4: 7}\n"
          ]
        }
      ]
    },
    {
      "cell_type": "code",
      "metadata": {
        "id": "iEPkgybtUYA5"
      },
      "source": [
        "# Membuat dictionary\n",
        "D = {\"nama\": \"Ani\",\n",
        "  \"alamat\": \"Bandung\", \n",
        "  \"umur\": 30\n",
        "}"
      ],
      "execution_count": 27,
      "outputs": []
    },
    {
      "cell_type": "code",
      "metadata": {
        "colab": {
          "base_uri": "https://localhost:8080/"
        },
        "id": "PoZK-MgNVbkG",
        "outputId": "64c8746c-dd89-4443-959b-46a96617717b"
      },
      "source": [
        "# Mengkonversi struktur data dictionary\n",
        "k_list = list(D.keys())\n",
        "k_tuple = tuple(D.keys())\n",
        "k_set = set(D.keys())\n",
        "\n",
        "print(k_list)\n",
        "print(k_tuple)\n",
        "print(k_set)\n"
      ],
      "execution_count": 28,
      "outputs": [
        {
          "output_type": "stream",
          "name": "stdout",
          "text": [
            "['nama', 'alamat', 'umur']\n",
            "('nama', 'alamat', 'umur')\n",
            "{'alamat', 'nama', 'umur'}\n"
          ]
        }
      ]
    }
  ]
}
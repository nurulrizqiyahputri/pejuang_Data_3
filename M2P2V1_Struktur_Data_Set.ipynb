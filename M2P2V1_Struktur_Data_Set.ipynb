{
  "nbformat": 4,
  "nbformat_minor": 0,
  "metadata": {
    "colab": {
      "name": "Untitled8.ipynb",
      "provenance": []
    },
    "kernelspec": {
      "name": "python3",
      "display_name": "Python 3"
    },
    "language_info": {
      "name": "python"
    }
  },
  "cells": [
    {
      "cell_type": "code",
      "metadata": {
        "colab": {
          "base_uri": "https://localhost:8080/"
        },
        "id": "wsHwi7pDwCg2",
        "outputId": "2e4f3332-3dfc-43d7-8b32-05f613529f65"
      },
      "source": [
        "Latihan 1\n",
        "# Data List\n",
        "\n",
        "X1 = [2, 5, 7, 12]\n",
        "print(type(X1))"
      ],
      "execution_count": 11,
      "outputs": [
        {
          "output_type": "stream",
          "name": "stdout",
          "text": [
            "<class 'list'>\n"
          ]
        }
      ]
    },
    {
      "cell_type": "code",
      "metadata": {
        "colab": {
          "base_uri": "https://localhost:8080/"
        },
        "id": "pVgKI84Xzdp-",
        "outputId": "8b3cd6c2-e6a8-47c6-d560-4586f188c469"
      },
      "source": [
        "X2 = [\"x\", \"jupyter\", 3]\n",
        "X2"
      ],
      "execution_count": 12,
      "outputs": [
        {
          "output_type": "execute_result",
          "data": {
            "text/plain": [
              "['x', 'jupyter', 3]"
            ]
          },
          "metadata": {},
          "execution_count": 12
        }
      ]
    },
    {
      "cell_type": "code",
      "metadata": {
        "colab": {
          "base_uri": "https://localhost:8080/"
        },
        "id": "xl4RIZ2Q0QVO",
        "outputId": "096ccdca-6e70-49a5-f8fe-fefd3a4da556"
      },
      "source": [
        "print(X1)\n",
        "print(X2)"
      ],
      "execution_count": 13,
      "outputs": [
        {
          "output_type": "stream",
          "name": "stdout",
          "text": [
            "[2, 5, 7, 12]\n",
            "['x', 'jupyter', 3]\n"
          ]
        }
      ]
    },
    {
      "cell_type": "code",
      "metadata": {
        "colab": {
          "base_uri": "https://localhost:8080/"
        },
        "id": "Re1FVbqR0ean",
        "outputId": "553a2231-82b8-48b4-81d4-f8610eccd408"
      },
      "source": [
        "1. Membuat Data List\n",
        "# List\n",
        "print(\"Tulislah List X1 dengan indeks urutan\", X1[0:2])"
      ],
      "execution_count": 15,
      "outputs": [
        {
          "output_type": "stream",
          "name": "stdout",
          "text": [
            "Tulislah List X1 dengan indeks urutan [2, 5]\n"
          ]
        }
      ]
    },
    {
      "cell_type": "code",
      "metadata": {
        "colab": {
          "base_uri": "https://localhost:8080/"
        },
        "id": "GNYc4EYC1aXo",
        "outputId": "404b12bd-8814-4fa4-cda0-a80d3ac121aa"
      },
      "source": [
        "X1[2] = 7\n",
        "print(\"List X1 setelah diganti elemennya\", X1)"
      ],
      "execution_count": 16,
      "outputs": [
        {
          "output_type": "stream",
          "name": "stdout",
          "text": [
            "List X1 setelah diganti elemennya [2, 5, 7, 12]\n"
          ]
        }
      ]
    },
    {
      "cell_type": "code",
      "metadata": {
        "colab": {
          "base_uri": "https://localhost:8080/"
        },
        "id": "6QltJPKp2Lvv",
        "outputId": "cd9408b9-6d62-49a2-a646-df4ce7d12c6f"
      },
      "source": [
        "X1 = [9, \"abc\", False, 13]\n",
        "print(X1)"
      ],
      "execution_count": 19,
      "outputs": [
        {
          "output_type": "stream",
          "name": "stdout",
          "text": [
            "[9, 'abc', False, 13]\n"
          ]
        }
      ]
    },
    {
      "cell_type": "code",
      "metadata": {
        "colab": {
          "base_uri": "https://localhost:8080/"
        },
        "id": "WxWThH-i3Axm",
        "outputId": "edaf4d10-3e71-477b-c6e1-9a85d1b1da2f"
      },
      "source": [
        "print(\"Slicing List X1:\", X1[2])"
      ],
      "execution_count": 21,
      "outputs": [
        {
          "output_type": "stream",
          "name": "stdout",
          "text": [
            "Slicing List X1: False\n"
          ]
        }
      ]
    },
    {
      "cell_type": "code",
      "metadata": {
        "colab": {
          "base_uri": "https://localhost:8080/"
        },
        "id": "duhBzHE55KYq",
        "outputId": "5cc3010b-57b1-4d80-b083-cbd72978d712"
      },
      "source": [
        "X1 = [9, \"abc\", False, 13, 13]\n",
        "print(\"Duplikasi pada list X1\", X1)"
      ],
      "execution_count": 23,
      "outputs": [
        {
          "output_type": "stream",
          "name": "stdout",
          "text": [
            "Duplikasi pada list X1 [9, 'abc', False, 13, 13]\n"
          ]
        }
      ]
    },
    {
      "cell_type": "code",
      "metadata": {
        "colab": {
          "base_uri": "https://localhost:8080/"
        },
        "id": "lwElRBO56ltq",
        "outputId": "5f157285-d989-46fa-af02-d954a1ecd350"
      },
      "source": [
        "# Ganti semua elemen yang ada pada listyang kalian buat\n",
        "X1 = [5, \"buku\", \"5=4j\", True]\n",
        "X1"
      ],
      "execution_count": 32,
      "outputs": [
        {
          "output_type": "execute_result",
          "data": {
            "text/plain": [
              "[5, 'buku', '5=4j', True]"
            ]
          },
          "metadata": {},
          "execution_count": 32
        }
      ]
    }
  ]
}